{
 "cells": [
  {
   "cell_type": "code",
   "execution_count": 31,
   "metadata": {},
   "outputs": [],
   "source": [
    "from os import listdir\n",
    "from os.path import isdir, join\n",
    "from tensorflow.keras import layers, models\n",
    "import numpy as np"
   ]
  },
  {
   "cell_type": "code",
   "execution_count": 32,
   "metadata": {},
   "outputs": [
    {
     "name": "stdout",
     "output_type": "stream",
     "text": [
      "['backward', 'bed', 'bird', 'cat', 'dog', 'down', 'eight', 'five', 'follow', 'forward', 'four', 'go', 'happy', 'house', 'learn', 'left', 'marvin', 'nine', 'no', 'off', 'on', 'one', 'right', 'seven', 'sheila', 'six', 'stop', 'three', 'tree', 'two', 'up', 'visual', 'wow', 'yes', 'zero']\n"
     ]
    }
   ],
   "source": [
    "# Create list of all targets (minus background noise)\n",
    "#words available to us as the data set\n",
    "dataset_path = 'D:\\wake word detection\\data set for wake word detection'\n",
    "all_targets = all_targets = [name for name in listdir(dataset_path) if isdir(join(dataset_path, name))]\n",
    "all_targets.remove('_background_noise_')\n",
    "print(all_targets)"
   ]
  },
  {
   "cell_type": "code",
   "execution_count": 33,
   "metadata": {},
   "outputs": [],
   "source": [
    "# Settings\n",
    "#linking the feature set file that we created\n",
    "feature_sets_path = r\"C:\\Users\\Apoorv singh negi\\all_targets_mfcc_sets.npz\"\n",
    "feature_sets_filename = 'all_targets_mfcc_sets.npz' #saving the neural network model to a file when we are done\n",
    "model_filename = 'wake_word_stop_model.h5'\n",
    "wake_word = 'stop'"
   ]
  },
  {
   "cell_type": "code",
   "execution_count": 34,
   "metadata": {},
   "outputs": [
    {
     "name": "stdout",
     "output_type": "stream",
     "text": [
      "['x_train', 'y_train', 'x_val', 'y_val', 'x_test', 'y_test']\n"
     ]
    }
   ],
   "source": [
    "# Load feature sets\n",
    "feature_sets = np.load(r\"C:\\Users\\Apoorv singh negi\\all_targets_mfcc_sets.npz\")\n",
    "print(feature_sets.files)"
   ]
  },
  {
   "cell_type": "code",
   "execution_count": 35,
   "metadata": {},
   "outputs": [],
   "source": [
    "# Assign feature sets\n",
    "x_train = feature_sets['x_train']\n",
    "y_train = feature_sets['y_train']\n",
    "x_val = feature_sets['x_val']\n",
    "y_val = feature_sets['y_val']\n",
    "x_test = feature_sets['x_test']\n",
    "y_test = feature_sets['y_test']"
   ]
  },
  {
   "cell_type": "code",
   "execution_count": 36,
   "metadata": {},
   "outputs": [
    {
     "name": "stdout",
     "output_type": "stream",
     "text": [
      "(7802, 16, 16)\n",
      "(967, 16, 16)\n",
      "(982, 16, 16)\n"
     ]
    }
   ],
   "source": [
    "# Look at tensor dimensions\n",
    "print(x_train.shape)\n",
    "print(x_val.shape)\n",
    "print(x_test.shape)"
   ]
  },
  {
   "cell_type": "code",
   "execution_count": 37,
   "metadata": {},
   "outputs": [
    {
     "name": "stdout",
     "output_type": "stream",
     "text": [
      "[14.  5. 22. 13. 30.  9. 34. 22. 33. 12.  9. 20. 23. 17. 20.  5. 26. 34.\n",
      "  6. 33. 31. 15. 10. 21.  6.  7. 11. 11. 20. 16. 22. 21. 14. 11. 30. 29.\n",
      "  3. 10. 10. 31. 23. 22. 24. 13. 11. 17.  7. 30. 22.  5. 10. 18. 11.  8.\n",
      " 34. 17. 33. 25. 20. 19. 24.  6.  7. 32. 20. 10. 30. 26.  4. 23.  2. 22.\n",
      " 21. 19. 25. 15.  5.  6. 29. 23. 15. 10. 11. 30.  5. 10.  7. 22. 27.  5.\n",
      "  6. 27. 15. 29. 24. 20. 31. 29. 19. 29. 19.  5.  5. 20. 27. 30.  2. 25.\n",
      " 12. 32. 33.  7. 19.  6. 21. 21.  4.  9. 25.  1. 25.  7.  1.  4. 15. 22.\n",
      " 27. 25.  7. 34. 30. 26. 23. 17.  5. 18.  4. 21. 34. 17.  5. 10. 10. 17.\n",
      " 13. 15.  7. 22. 30. 15. 25. 27.  2. 26.  5. 27. 23. 10. 32. 13. 21. 33.\n",
      " 27. 17. 32.  2. 29.  7.  0. 22.  4. 14.  1. 27. 23. 26. 25. 21. 16. 17.\n",
      " 24. 15.  1. 32.  2. 17. 20. 17.  7. 33. 18. 34.  5. 30. 25.  7.  0. 11.\n",
      "  7.  7. 19. 29. 15. 33. 20. 21. 11.  7. 24. 25. 31. 30. 22. 21. 19. 21.\n",
      " 29. 18.  0. 15. 25.  4.  6. 26.  4. 12.  5. 15. 34. 15. 13. 16. 21. 20.\n",
      " 23. 18. 33. 10. 23. 12. 24.  5.  5.  5. 15. 25. 29. 33. 24.  1. 17.  1.\n",
      " 20. 13. 21. 25. 27. 25. 18.  5.  6. 34. 30.  3.  5. 25.  3. 26. 33. 26.\n",
      " 16. 14. 34. 33.  3. 34.  6. 29. 11. 14. 19.  0.  6. 17.  7. 17. 19. 25.\n",
      " 32. 14. 20.  8. 28. 11. 23. 11.  5. 26. 19. 15. 21. 27.  8. 17. 26. 33.\n",
      " 22. 24.  2. 26. 13. 29. 34.  5. 32.  9. 26. 17. 20.  5. 33. 18. 26. 31.\n",
      " 13.  1.  4. 23. 22. 15. 13. 25. 28. 24.  3. 16.  5. 29. 33.  7. 34.  4.\n",
      " 18. 15. 29. 26. 15. 15.  6. 25. 17.  8. 31.  7. 32. 20. 17. 23. 25. 33.\n",
      "  7.  5. 28. 21. 13. 26. 21. 12. 19. 21.  2. 26.  6. 11.  7. 18. 16. 23.\n",
      "  6. 13. 19. 15.  7. 26. 26.  6.  6. 17. 28. 33. 23. 34. 33. 33. 27. 10.\n",
      "  6. 23. 10. 27. 10. 19.  6. 30.  7. 29. 29. 29. 21. 18. 16. 25.  2. 23.\n",
      " 13. 19. 27. 13. 27.  1. 22. 15. 22.  7.  1. 33.  4.  5.  2.  0.  7. 26.\n",
      " 15. 27. 18. 23.  5. 34. 23. 33. 15. 33. 34. 25. 29.  5. 30. 19. 22. 11.\n",
      " 26. 28. 34.  6. 29. 30. 27. 24. 20. 17.  5. 17.  1. 10. 30. 28. 27. 26.\n",
      " 15. 18. 33.  5. 17.  5. 28.  0. 22. 18. 23. 20. 15. 22. 22. 10. 10. 11.\n",
      " 21. 25. 14. 19. 18. 10. 15. 30.  3. 22. 30.  9.  6. 33. 27. 25. 14. 12.\n",
      "  7. 33. 25. 32. 30. 22. 22. 20. 20.  4. 11. 18. 26.  9.  1. 21. 17. 15.\n",
      "  5. 17. 21.  9. 26. 23. 15.  7. 26. 31. 13. 29. 29. 23.  2. 10. 28.  6.\n",
      " 22. 19. 20. 32.  7. 19. 23.  6.  7. 25.  8.  6. 18. 31. 22. 22.  9. 19.\n",
      "  2. 23. 29. 25. 17. 20.  6. 29. 16.  0.  6. 19. 30. 17. 34.  4. 34.  3.\n",
      " 27. 12. 29. 15. 20. 10. 23.  3. 29. 25. 14. 11. 18.  5. 32. 30. 13. 24.\n",
      " 18. 25. 23.  9. 29. 23. 27.  2. 13. 15. 33.  0. 22. 10. 33.  5. 17. 30.\n",
      " 10. 11.  6.  1. 15. 17. 16.  6. 21. 33.  7. 21. 27. 25. 34. 23. 32. 20.\n",
      " 33. 23. 10. 21. 18. 20. 25. 13. 23. 14. 18. 26. 15. 24. 24. 20.  4.  7.\n",
      "  6.  0. 18. 15. 10. 21.  6.  2. 15. 19. 30. 18. 31.  9. 21. 15. 23. 15.\n",
      " 14. 21. 11. 23. 27. 29. 20. 20. 31. 29. 10. 29. 26. 30. 13. 23. 18. 25.\n",
      " 27.  5.  7. 30. 32. 34. 17. 30. 19.  0. 33.  8.  0. 28. 22. 25.  8. 11.\n",
      " 33. 30. 10. 22. 11. 34. 25.  5. 30. 33. 14. 27. 16. 26.  6. 32. 21. 27.\n",
      " 11. 20. 10. 20.  5.  8.  9.  5. 30. 25.  8. 23.  7. 17. 18. 21. 27. 26.\n",
      " 21.  5. 29. 26. 22. 19. 23. 14. 20. 20. 20. 32. 27. 25. 23. 12. 29.  0.\n",
      " 17.  6. 22. 30. 30. 27. 27. 19. 23. 21. 33. 17. 14. 30. 27. 21. 27. 23.\n",
      " 17. 16.  5. 26. 30. 28. 27.  7. 17. 11. 34.  7. 13.  5. 19. 21. 13. 12.\n",
      " 31.  4. 15. 15. 30. 16. 18. 15. 27. 29. 17. 21. 15. 23. 17. 20. 20. 27.\n",
      " 11.  2. 22. 29. 17. 24. 24. 16.  7. 10. 26. 26. 32. 24. 17. 33. 33. 21.\n",
      "  3.  9. 34. 18. 25. 20.  7. 21. 31.  9. 31. 10. 11.  0.  7.  0. 31. 18.\n",
      " 34. 16. 23. 33.  3. 10. 28. 19. 19. 30. 33. 21. 15. 22. 12. 34. 32. 25.\n",
      "  9. 30. 17. 19. 15. 17. 30.  5.  6.  9.  7. 29.  4. 33. 32. 23.  7.  6.\n",
      " 34. 24. 21. 21. 12. 29.  9.  2. 17. 26. 33. 16.  5. 18. 15. 30. 34. 33.\n",
      " 11. 17. 25. 23. 12. 21. 17. 29.  7. 18. 29. 26. 19. 34. 20.  6. 15. 11.\n",
      " 33. 21. 28. 20. 21. 29. 10. 21. 11. 12. 20. 23. 34.  2. 20. 27. 31. 26.\n",
      " 13. 34. 12. 25. 13. 17.  3. 34. 21.  3.  6. 29.  7. 21. 12.  2. 22. 22.\n",
      "  8. 11. 21. 30. 25. 15. 28. 22.  6. 26. 15. 26. 17.]\n"
     ]
    }
   ],
   "source": [
    "# Peek at labels\n",
    "print(y_val)"
   ]
  },
  {
   "cell_type": "code",
   "execution_count": 38,
   "metadata": {},
   "outputs": [],
   "source": [
    "# Convert ground truth arrays to one wake word (1) and 'other' (0)\n",
    "#find index of our target word stop\n",
    "#np.equal gives us true and false so we convert it to 0 and 1 number using float64\n",
    "wake_word_index = all_targets.index(wake_word)\n",
    "y_train = np.equal(y_train, wake_word_index).astype('float64')\n",
    "y_val = np.equal(y_val, wake_word_index).astype('float64')\n",
    "y_test = np.equal(y_test, wake_word_index).astype('float64')"
   ]
  },
  {
   "cell_type": "code",
   "execution_count": 39,
   "metadata": {},
   "outputs": [
    {
     "name": "stdout",
     "output_type": "stream",
     "text": [
      "[0. 0. 0. 0. 0. 0. 0. 0. 0. 0. 0. 0. 0. 0. 0. 0. 1. 0. 0. 0. 0. 0. 0. 0.\n",
      " 0. 0. 0. 0. 0. 0. 0. 0. 0. 0. 0. 0. 0. 0. 0. 0. 0. 0. 0. 0. 0. 0. 0. 0.\n",
      " 0. 0. 0. 0. 0. 0. 0. 0. 0. 0. 0. 0. 0. 0. 0. 0. 0. 0. 0. 1. 0. 0. 0. 0.\n",
      " 0. 0. 0. 0. 0. 0. 0. 0. 0. 0. 0. 0. 0. 0. 0. 0. 0. 0. 0. 0. 0. 0. 0. 0.\n",
      " 0. 0. 0. 0. 0. 0. 0. 0. 0. 0. 0. 0. 0. 0. 0. 0. 0. 0. 0. 0. 0. 0. 0. 0.\n",
      " 0. 0. 0. 0. 0. 0. 0. 0. 0. 0. 0. 1. 0. 0. 0. 0. 0. 0. 0. 0. 0. 0. 0. 0.\n",
      " 0. 0. 0. 0. 0. 0. 0. 0. 0. 1. 0. 0. 0. 0. 0. 0. 0. 0. 0. 0. 0. 0. 0. 0.\n",
      " 0. 0. 0. 0. 0. 0. 0. 1. 0. 0. 0. 0. 0. 0. 0. 0. 0. 0. 0. 0. 0. 0. 0. 0.\n",
      " 0. 0. 0. 0. 0. 0. 0. 0. 0. 0. 0. 0. 0. 0. 0. 0. 0. 0. 0. 0. 0. 0. 0. 0.\n",
      " 0. 0. 0. 0. 0. 0. 0. 1. 0. 0. 0. 0. 0. 0. 0. 0. 0. 0. 0. 0. 0. 0. 0. 0.\n",
      " 0. 0. 0. 0. 0. 0. 0. 0. 0. 0. 0. 0. 0. 0. 0. 0. 0. 0. 0. 0. 0. 0. 0. 0.\n",
      " 0. 0. 0. 1. 0. 1. 0. 0. 0. 0. 0. 0. 0. 0. 0. 0. 0. 0. 0. 0. 0. 0. 0. 0.\n",
      " 0. 0. 0. 0. 0. 0. 0. 0. 0. 1. 0. 0. 0. 0. 0. 0. 1. 0. 0. 0. 0. 1. 0. 0.\n",
      " 0. 0. 0. 0. 1. 0. 0. 0. 0. 0. 1. 0. 0. 0. 0. 0. 0. 0. 0. 0. 0. 0. 0. 0.\n",
      " 0. 0. 0. 0. 0. 0. 0. 0. 0. 1. 0. 0. 0. 0. 0. 0. 0. 0. 0. 0. 0. 0. 0. 0.\n",
      " 0. 0. 0. 0. 0. 1. 0. 0. 0. 0. 0. 1. 0. 0. 0. 0. 0. 0. 0. 0. 0. 0. 0. 1.\n",
      " 1. 0. 0. 0. 0. 0. 0. 0. 0. 0. 0. 0. 0. 0. 0. 0. 0. 0. 0. 0. 0. 0. 0. 0.\n",
      " 0. 0. 0. 0. 0. 0. 0. 0. 0. 0. 0. 0. 0. 0. 0. 0. 0. 0. 0. 0. 0. 0. 0. 1.\n",
      " 0. 0. 0. 0. 0. 0. 0. 0. 0. 0. 0. 0. 0. 0. 0. 0. 0. 0. 1. 0. 0. 0. 0. 0.\n",
      " 0. 0. 0. 0. 0. 0. 0. 0. 0. 0. 0. 1. 0. 0. 0. 0. 0. 0. 0. 0. 0. 0. 0. 0.\n",
      " 0. 0. 0. 0. 0. 0. 0. 0. 0. 0. 0. 0. 0. 0. 0. 0. 0. 0. 0. 0. 0. 0. 0. 0.\n",
      " 0. 0. 0. 0. 0. 0. 0. 0. 0. 0. 0. 0. 1. 0. 0. 0. 0. 0. 0. 0. 0. 0. 1. 0.\n",
      " 0. 0. 1. 0. 0. 0. 0. 0. 0. 0. 0. 0. 0. 0. 0. 0. 0. 0. 0. 0. 0. 0. 0. 0.\n",
      " 0. 0. 0. 0. 0. 0. 0. 0. 0. 0. 0. 0. 0. 0. 0. 0. 0. 0. 0. 0. 0. 0. 0. 0.\n",
      " 0. 0. 0. 0. 0. 0. 0. 0. 0. 0. 0. 0. 0. 0. 0. 0. 0. 0. 0. 0. 0. 0. 0. 0.\n",
      " 0. 0. 0. 0. 0. 0. 0. 0. 0. 0. 0. 0. 0. 0. 0. 0. 0. 0. 0. 0. 0. 0. 0. 0.\n",
      " 0. 0. 0. 0. 0. 0. 0. 0. 0. 0. 0. 0. 0. 0. 0. 0. 0. 1. 0. 0. 0. 0. 0. 0.\n",
      " 0. 0. 0. 0. 0. 0. 0. 0. 0. 0. 0. 0. 0. 0. 0. 0. 0. 0. 0. 0. 0. 0. 0. 0.\n",
      " 0. 0. 0. 0. 0. 0. 1. 0. 0. 0. 0. 0. 0. 0. 0. 0. 0. 0. 0. 0. 0. 0. 0. 0.\n",
      " 0. 0. 0. 0. 0. 0. 0. 0. 0. 0. 0. 0. 0. 0. 0. 0. 0. 0. 0. 1. 0. 0. 0. 0.\n",
      " 0. 0. 0. 0. 0. 0. 0. 0. 0. 0. 0. 0. 0. 0. 0. 0. 0. 1. 0. 0. 0. 1. 0. 0.\n",
      " 0. 0. 0. 0. 0. 0. 0. 0. 0. 0. 0. 0. 0. 0. 0. 0. 0. 0. 0. 0. 0. 0. 0. 0.\n",
      " 0. 0. 0. 0. 0. 0. 0. 0. 0. 1. 0. 0. 0. 0. 0. 0. 0. 0. 0. 0. 0. 0. 0. 0.\n",
      " 0. 0. 0. 0. 0. 0. 0. 0. 0. 0. 0. 0. 0. 0. 0. 0. 0. 0. 0. 0. 0. 0. 0. 0.\n",
      " 0. 0. 0. 0. 1. 1. 0. 0. 0. 0. 0. 0. 0. 0. 0. 0. 0. 0. 0. 0. 0. 0. 0. 0.\n",
      " 0. 0. 0. 0. 0. 0. 0. 0. 0. 0. 0. 0. 0. 0. 0. 0. 0. 0. 0. 0. 0. 0. 0. 0.\n",
      " 0. 0. 0. 0. 0. 0. 0. 0. 0. 0. 0. 0. 0. 0. 0. 0. 0. 0. 0. 0. 0. 0. 0. 0.\n",
      " 0. 0. 0. 1. 0. 0. 0. 0. 0. 0. 0. 0. 0. 0. 0. 0. 0. 0. 0. 0. 0. 0. 0. 1.\n",
      " 0. 0. 0. 0. 0. 0. 0. 0. 0. 0. 0. 0. 0. 0. 0. 0. 0. 0. 0. 0. 0. 0. 0. 1.\n",
      " 0. 0. 0. 0. 0. 0. 0. 0. 0. 0. 0. 0. 0. 0. 0. 0. 0. 0. 0. 0. 0. 0. 0. 0.\n",
      " 0. 0. 0. 1. 0. 1. 0.]\n"
     ]
    }
   ],
   "source": [
    "#stop label having value '1' and other having value '0'\n",
    "# Peek at labels after conversion\n",
    "print(y_val)"
   ]
  },
  {
   "cell_type": "code",
   "execution_count": 40,
   "metadata": {},
   "outputs": [
    {
     "name": "stdout",
     "output_type": "stream",
     "text": [
      "0.038262668045501554\n",
      "0.9617373319544984\n"
     ]
    }
   ],
   "source": [
    "# What percentage of 'stop' appear in validation labels\n",
    "print(sum(y_val) / len(y_val))\n",
    "print(1 - sum(y_val) / len(y_val))"
   ]
  },
  {
   "cell_type": "code",
   "execution_count": 41,
   "metadata": {},
   "outputs": [
    {
     "name": "stdout",
     "output_type": "stream",
     "text": [
      "(7802, 16, 16)\n"
     ]
    }
   ],
   "source": [
    "\n",
    "# View the dimensions of our input data\n",
    "print(x_train.shape)"
   ]
  },
  {
   "cell_type": "code",
   "execution_count": 42,
   "metadata": {},
   "outputs": [
    {
     "name": "stdout",
     "output_type": "stream",
     "text": [
      "(7802, 16, 16, 1)\n",
      "(967, 16, 16, 1)\n",
      "(982, 16, 16, 1)\n"
     ]
    }
   ],
   "source": [
    "# CNN for TF expects (batch, height, width, channels)\n",
    "# So we reshape the input tensors with a \"color\" channel of 1\n",
    "#add '1' as the fourth dimension of the input of the image \n",
    "x_train = x_train.reshape(x_train.shape[0], \n",
    "                          x_train.shape[1], \n",
    "                          x_train.shape[2], \n",
    "                          1)\n",
    "x_val = x_val.reshape(x_val.shape[0], \n",
    "                      x_val.shape[1], \n",
    "                      x_val.shape[2], \n",
    "                      1)\n",
    "x_test = x_test.reshape(x_test.shape[0], \n",
    "                        x_test.shape[1], \n",
    "                        x_test.shape[2], \n",
    "                        1)\n",
    "print(x_train.shape)\n",
    "print(x_val.shape)\n",
    "print(x_test.shape)"
   ]
  },
  {
   "cell_type": "code",
   "execution_count": 43,
   "metadata": {},
   "outputs": [
    {
     "name": "stdout",
     "output_type": "stream",
     "text": [
      "(16, 16, 1)\n"
     ]
    }
   ],
   "source": [
    "# Input shape for CNN is size of MFCC of 1 sample\n",
    "sample_shape = x_test.shape[1:]\n",
    "print(sample_shape)"
   ]
  },
  {
   "cell_type": "code",
   "execution_count": 45,
   "metadata": {},
   "outputs": [],
   "source": [
    "# Build model\n",
    "# Based on: https://www.geeksforgeeks.org/python-image-classification-using-keras/\n",
    "#three convolutional layer with relu activation function and max_pooling function\n",
    "model = models.Sequential()\n",
    "model.add(layers.Conv2D(32, \n",
    "                        (2, 2), \n",
    "                        activation='relu',\n",
    "                        input_shape=sample_shape))\n",
    "model.add(layers.MaxPooling2D(pool_size=(2, 2)))\n",
    "\n",
    "model.add(layers.Conv2D(32, (2, 2), activation='relu'))\n",
    "model.add(layers.MaxPooling2D(pool_size=(2, 2)))\n",
    "\n",
    "model.add(layers.Conv2D(64, (2, 2), activation='relu'))\n",
    "model.add(layers.MaxPooling2D(pool_size=(2, 2)))\n",
    "\n",
    "# Classifier\n",
    "model.add(layers.Flatten())\n",
    "model.add(layers.Dense(64, activation='relu'))\n",
    "model.add(layers.Dropout(0.5))\n",
    "model.add(layers.Dense(1, activation='sigmoid'))"
   ]
  },
  {
   "cell_type": "code",
   "execution_count": 46,
   "metadata": {},
   "outputs": [
    {
     "name": "stdout",
     "output_type": "stream",
     "text": [
      "Model: \"sequential_2\"\n",
      "_________________________________________________________________\n",
      "Layer (type)                 Output Shape              Param #   \n",
      "=================================================================\n",
      "conv2d_6 (Conv2D)            (None, 15, 15, 32)        160       \n",
      "_________________________________________________________________\n",
      "max_pooling2d_6 (MaxPooling2 (None, 7, 7, 32)          0         \n",
      "_________________________________________________________________\n",
      "conv2d_7 (Conv2D)            (None, 6, 6, 32)          4128      \n",
      "_________________________________________________________________\n",
      "max_pooling2d_7 (MaxPooling2 (None, 3, 3, 32)          0         \n",
      "_________________________________________________________________\n",
      "conv2d_8 (Conv2D)            (None, 2, 2, 64)          8256      \n",
      "_________________________________________________________________\n",
      "max_pooling2d_8 (MaxPooling2 (None, 1, 1, 64)          0         \n",
      "_________________________________________________________________\n",
      "flatten_2 (Flatten)          (None, 64)                0         \n",
      "_________________________________________________________________\n",
      "dense_4 (Dense)              (None, 64)                4160      \n",
      "_________________________________________________________________\n",
      "dropout_2 (Dropout)          (None, 64)                0         \n",
      "_________________________________________________________________\n",
      "dense_5 (Dense)              (None, 1)                 65        \n",
      "=================================================================\n",
      "Total params: 16,769\n",
      "Trainable params: 16,769\n",
      "Non-trainable params: 0\n",
      "_________________________________________________________________\n"
     ]
    }
   ],
   "source": [
    "# Display model\n",
    "model.summary()"
   ]
  },
  {
   "cell_type": "code",
   "execution_count": 48,
   "metadata": {},
   "outputs": [],
   "source": [
    "# Add training parameters to model\n",
    "model.compile(loss='binary_crossentropy', \n",
    "              optimizer='rmsprop', \n",
    "              metrics=['acc']) #record metrics during training that could be helpful later"
   ]
  },
  {
   "cell_type": "code",
   "execution_count": 49,
   "metadata": {},
   "outputs": [
    {
     "name": "stdout",
     "output_type": "stream",
     "text": [
      "Epoch 1/30\n",
      "79/79 [==============================] - 4s 13ms/step - loss: 0.2565 - acc: 0.9357 - val_loss: 0.1585 - val_acc: 0.9617\n",
      "Epoch 2/30\n",
      "79/79 [==============================] - 1s 10ms/step - loss: 0.1640 - acc: 0.9583 - val_loss: 0.1342 - val_acc: 0.9617\n",
      "Epoch 3/30\n",
      "79/79 [==============================] - 1s 10ms/step - loss: 0.1346 - acc: 0.9621 - val_loss: 0.1732 - val_acc: 0.9617\n",
      "Epoch 4/30\n",
      "79/79 [==============================] - 1s 10ms/step - loss: 0.1191 - acc: 0.9623 - val_loss: 0.0939 - val_acc: 0.9659\n",
      "Epoch 5/30\n",
      "79/79 [==============================] - 1s 10ms/step - loss: 0.1086 - acc: 0.9643 - val_loss: 0.0892 - val_acc: 0.9710\n",
      "Epoch 6/30\n",
      "79/79 [==============================] - 1s 10ms/step - loss: 0.0970 - acc: 0.9701 - val_loss: 0.1673 - val_acc: 0.9628\n",
      "Epoch 7/30\n",
      "79/79 [==============================] - 1s 11ms/step - loss: 0.0875 - acc: 0.9720 - val_loss: 0.1054 - val_acc: 0.9690\n",
      "Epoch 8/30\n",
      "79/79 [==============================] - 1s 11ms/step - loss: 0.0832 - acc: 0.9717 - val_loss: 0.0917 - val_acc: 0.9741\n",
      "Epoch 9/30\n",
      "79/79 [==============================] - 1s 10ms/step - loss: 0.0795 - acc: 0.9703 - val_loss: 0.0841 - val_acc: 0.9804\n",
      "Epoch 10/30\n",
      "79/79 [==============================] - 1s 12ms/step - loss: 0.0827 - acc: 0.9716 - val_loss: 0.0855 - val_acc: 0.9731\n",
      "Epoch 11/30\n",
      "79/79 [==============================] - 1s 11ms/step - loss: 0.0711 - acc: 0.9744 - val_loss: 0.2038 - val_acc: 0.9669\n",
      "Epoch 12/30\n",
      "79/79 [==============================] - 1s 11ms/step - loss: 0.0678 - acc: 0.9770 - val_loss: 0.0896 - val_acc: 0.9741\n",
      "Epoch 13/30\n",
      "79/79 [==============================] - 1s 11ms/step - loss: 0.0674 - acc: 0.9785 - val_loss: 0.0867 - val_acc: 0.9772\n",
      "Epoch 14/30\n",
      "79/79 [==============================] - 1s 10ms/step - loss: 0.0589 - acc: 0.9797 - val_loss: 0.1225 - val_acc: 0.9700\n",
      "Epoch 15/30\n",
      "79/79 [==============================] - 1s 11ms/step - loss: 0.0560 - acc: 0.9825 - val_loss: 0.1311 - val_acc: 0.9731\n",
      "Epoch 16/30\n",
      "79/79 [==============================] - 1s 10ms/step - loss: 0.0566 - acc: 0.9802 - val_loss: 0.0984 - val_acc: 0.9793\n",
      "Epoch 17/30\n",
      "79/79 [==============================] - 1s 10ms/step - loss: 0.0486 - acc: 0.9839 - val_loss: 0.0885 - val_acc: 0.9700\n",
      "Epoch 18/30\n",
      "79/79 [==============================] - 1s 10ms/step - loss: 0.0478 - acc: 0.9827 - val_loss: 0.0869 - val_acc: 0.9752\n",
      "Epoch 19/30\n",
      "79/79 [==============================] - 1s 10ms/step - loss: 0.0465 - acc: 0.9846 - val_loss: 0.0851 - val_acc: 0.9741\n",
      "Epoch 20/30\n",
      "79/79 [==============================] - 1s 11ms/step - loss: 0.0436 - acc: 0.9828 - val_loss: 0.1237 - val_acc: 0.9524\n",
      "Epoch 21/30\n",
      "79/79 [==============================] - 1s 10ms/step - loss: 0.0458 - acc: 0.9814 - val_loss: 0.0961 - val_acc: 0.9690\n",
      "Epoch 22/30\n",
      "79/79 [==============================] - 1s 10ms/step - loss: 0.0350 - acc: 0.9868 - val_loss: 0.1180 - val_acc: 0.9752\n",
      "Epoch 23/30\n",
      "79/79 [==============================] - 1s 11ms/step - loss: 0.0344 - acc: 0.9851 - val_loss: 0.1512 - val_acc: 0.9442\n",
      "Epoch 24/30\n",
      "79/79 [==============================] - 1s 12ms/step - loss: 0.0353 - acc: 0.9869 - val_loss: 0.1156 - val_acc: 0.9659\n",
      "Epoch 25/30\n",
      "79/79 [==============================] - 1s 11ms/step - loss: 0.0297 - acc: 0.9873 - val_loss: 0.1321 - val_acc: 0.9669\n",
      "Epoch 26/30\n",
      "79/79 [==============================] - 1s 14ms/step - loss: 0.0345 - acc: 0.9892 - val_loss: 0.1568 - val_acc: 0.9741\n",
      "Epoch 27/30\n",
      "79/79 [==============================] - 1s 13ms/step - loss: 0.0256 - acc: 0.9909 - val_loss: 0.1515 - val_acc: 0.9721\n",
      "Epoch 28/30\n",
      "79/79 [==============================] - 1s 13ms/step - loss: 0.0241 - acc: 0.9900 - val_loss: 0.1684 - val_acc: 0.9731\n",
      "Epoch 29/30\n",
      "79/79 [==============================] - 1s 13ms/step - loss: 0.0226 - acc: 0.9909 - val_loss: 0.1374 - val_acc: 0.9731\n",
      "Epoch 30/30\n",
      "79/79 [==============================] - 1s 11ms/step - loss: 0.0175 - acc: 0.9948 - val_loss: 0.1649 - val_acc: 0.9493\n"
     ]
    }
   ],
   "source": [
    "# Train\n",
    "history = model.fit(x_train, \n",
    "                    y_train, \n",
    "                    epochs=30, \n",
    "                    batch_size=100, \n",
    "                    validation_data=(x_val, y_val))"
   ]
  },
  {
   "cell_type": "code",
   "execution_count": 50,
   "metadata": {},
   "outputs": [
    {
     "data": {
      "image/png": "[encoded data removed]",
      "text/plain": [
       "<Figure size 432x288 with 1 Axes>"
      ]
     },
     "metadata": {
      "needs_background": "light"
     },
     "output_type": "display_data"
    },
    {
     "data": {
      "image/png": "[encoded data removed]",
      "text/plain": [
       "<Figure size 432x288 with 1 Axes>"
      ]
     },
     "metadata": {
      "needs_background": "light"
     },
     "output_type": "display_data"
    }
   ],
   "source": [
    "# Plot results\n",
    "import matplotlib.pyplot as plt\n",
    "\n",
    "acc = history.history['acc']\n",
    "val_acc = history.history['val_acc']\n",
    "loss = history.history['loss']\n",
    "val_loss = history.history['val_loss']\n",
    "\n",
    "epochs = range(1, len(acc) + 1)\n",
    "\n",
    "plt.plot(epochs, acc, 'bo', label='Training acc')\n",
    "plt.plot(epochs, val_acc, 'b', label='Validation acc')\n",
    "plt.title('Training and validation accuracy')\n",
    "plt.legend()\n",
    "\n",
    "plt.figure()\n",
    "\n",
    "plt.plot(epochs, loss, 'bo', label='Training loss')\n",
    "plt.plot(epochs, val_loss, 'b', label='Validation loss')\n",
    "plt.title('Training and validation loss')\n",
    "plt.legend()\n",
    "\n",
    "plt.show()"
   ]
  },
  {
   "cell_type": "code",
   "execution_count": 51,
   "metadata": {},
   "outputs": [],
   "source": [
    "# Save the model as a file\n",
    "models.save_model(model, model_filename)"
   ]
  },
  {
   "cell_type": "code",
   "execution_count": 52,
   "metadata": {},
   "outputs": [
    {
     "name": "stdout",
     "output_type": "stream",
     "text": [
      "19\n",
      "66\n",
      "69\n",
      "98\n",
      "119\n",
      "161\n",
      "165\n",
      "292\n",
      "327\n",
      "344\n",
      "349\n",
      "350\n",
      "392\n",
      "427\n",
      "437\n",
      "491\n",
      "499\n",
      "500\n",
      "517\n",
      "526\n",
      "566\n",
      "586\n",
      "598\n",
      "616\n",
      "617\n",
      "642\n",
      "702\n",
      "706\n",
      "761\n",
      "783\n",
      "810\n",
      "817\n",
      "862\n",
      "874\n",
      "876\n",
      "910\n",
      "946\n",
      "947\n"
     ]
    }
   ],
   "source": [
    "# See which are 'stop'\n",
    "for idx, y in enumerate(y_test):\n",
    "    if y == 1:\n",
    "        print(idx)"
   ]
  },
  {
   "cell_type": "code",
   "execution_count": 54,
   "metadata": {},
   "outputs": [
    {
     "name": "stdout",
     "output_type": "stream",
     "text": [
      "Answer: 0.0  Prediction: [[2.2715378e-12]]\n",
      "Answer: 0.0  Prediction: [[0.01637837]]\n",
      "Answer: 0.0  Prediction: [[7.729828e-06]]\n",
      "Answer: 0.0  Prediction: [[7.5884776e-10]]\n",
      "Answer: 0.0  Prediction: [[1.1602997e-14]]\n",
      "Answer: 0.0  Prediction: [[0.13910878]]\n",
      "Answer: 0.0  Prediction: [[0.00105801]]\n",
      "Answer: 0.0  Prediction: [[1.4907928e-06]]\n",
      "Answer: 0.0  Prediction: [[3.3535839e-15]]\n",
      "Answer: 1.0  Prediction: [[0.93134403]]\n"
     ]
    }
   ],
   "source": [
    "# TEST: Load model and run it against test set\n",
    "#consider above 0.5 as our target wake word or stop\n",
    "model = models.load_model(model_filename)\n",
    "for i in range(110, 120):\n",
    "    print('Answer:', y_test[i], ' Prediction:', model.predict(np.expand_dims(x_test[i], 0)))"
   ]
  },
  {
   "cell_type": "code",
   "execution_count": 55,
   "metadata": {},
   "outputs": [
    {
     "name": "stdout",
     "output_type": "stream",
     "text": [
      "31/31 [==============================] - 0s 1ms/step - loss: 0.1382 - acc: 0.9552\n"
     ]
    },
    {
     "data": {
      "text/plain": [
       "[0.13815420866012573, 0.9551934599876404]"
      ]
     },
     "execution_count": 55,
     "metadata": {},
     "output_type": "execute_result"
    }
   ],
   "source": [
    "# Evaluate model with test set\n",
    "#here the accuracy must be close to the validation accuracy\n",
    "#95% accurate is predicting whether the 1 sec clip is our target wake word stop or not\n",
    "model.evaluate(x=x_test, y=y_test)"
   ]
  },
  {
   "cell_type": "code",
   "execution_count": null,
   "metadata": {},
   "outputs": [],
   "source": []
  }
 ],
 "metadata": {
  "kernelspec": {
   "display_name": "Python 3",
   "language": "python",
   "name": "python3"
  },
  "language_info": {
   "codemirror_mode": {
    "name": "ipython",
    "version": 3
   },
   "file_extension": ".py",
   "mimetype": "text/x-python",
   "name": "python",
   "nbconvert_exporter": "python",
   "pygments_lexer": "ipython3",
   "version": "3.8.5"
  }
 },
 "nbformat": 4,
 "nbformat_minor": 4
}
